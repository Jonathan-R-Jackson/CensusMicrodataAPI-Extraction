{
 "cells": [
  {
   "cell_type": "markdown",
   "id": "48ac6a59",
   "metadata": {},
   "source": [
    "# This notebook fully documents and executes the use of the Requests Library and CSV module with Python in order to get survey response data from the United States Census Microdata API and store that data into two csv files on my computer"
   ]
  },
  {
   "cell_type": "code",
   "execution_count": 1,
   "id": "277ea5a9",
   "metadata": {},
   "outputs": [
    {
     "data": {
      "text/plain": [
       "<Response [200]>"
      ]
     },
     "execution_count": 1,
     "metadata": {},
     "output_type": "execute_result"
    }
   ],
   "source": [
    "# Import the Requests and CSV Libraries in order to send HTTP Requests\n",
    "import requests\n",
    "import csv\n",
    "\n",
    "# Create a Base URL API Call using .get function where the URL directs to the Census \"Current Population Survey Basic Microdata\" for February 2023\n",
    "requests.get(\"http://api.census.gov/data/2023/cps/basic/feb\")\n",
    "\n",
    "# I should recieve the HTTP response code [200] which verifies that the Request was successful"
   ]
  },
  {
   "cell_type": "code",
   "execution_count": 2,
   "id": "d99e54d0",
   "metadata": {},
   "outputs": [],
   "source": [
    "#Create a variable for the Base URL String\n",
    "Base_URL = \"http://api.census.gov/data/2023/cps/basic/feb\"\n",
    "\n",
    "# Create a variable using the Census Microdata API documentation, that represents the API Call endpoints for the:\n",
    "# Unique Person Identifier (OCCURNUM), age of survey respondant (PRTAGE), job class (PRCOW1), industry of occupation (PEIO1ICD), past 12 month household income (HEFAMINC), sex of survey respondant(PESEX), total household number of members (HRNUMHOU), Highest Level of School Completed(PEEDUCA),Race of Respondant(PTDTRACE)\n",
    "# For Charles County(FIPS CODE:017), Maryland(FIPS CCODE:24)\n",
    "# Ending with my Authorization Key\n",
    "CC_MD = \"?get=OCCURNUM,PRTAGE,PRCOW1,PEIO1ICD,HEFAMINC,PESEX,HRNUMHOU,PEEDUCA,PTDTRACE&for=county:017&in=state:24&key=9f6e0ccc3ca0d0ca5e570f3affc38924f177b9ad\""
   ]
  },
  {
   "cell_type": "code",
   "execution_count": 3,
   "id": "c36083b3",
   "metadata": {},
   "outputs": [
    {
     "data": {
      "text/plain": [
       "<Response [200]>"
      ]
     },
     "execution_count": 3,
     "metadata": {},
     "output_type": "execute_result"
    }
   ],
   "source": [
    "# Create an API Request that combines Base URL with Charles County Maryland Data Endpoints\n",
    "requests.get(Base_URL + CC_MD)"
   ]
  },
  {
   "cell_type": "code",
   "execution_count": 4,
   "id": "6449989e",
   "metadata": {},
   "outputs": [],
   "source": [
    "# Create a variable for Charles County Request by concatenating Base_URL and CC_MD variables using the + operator\n",
    "# Use .json method in order to convert CC_DATA call into a JavaScript object which will be a list of lists\n",
    "CC_DATA = requests.get(Base_URL + CC_MD).json()"
   ]
  },
  {
   "cell_type": "code",
   "execution_count": 5,
   "id": "5e975ac4",
   "metadata": {},
   "outputs": [],
   "source": [
    "# Create a CSV File locatable with the computers file explorer named CC_DATA.csv and write the data stored in the CC_DATA variable to the newly created file using the created writer object\n",
    "with open(\"CC_DATA.csv\", \"w\", newline=\"\") as f:\n",
    "    writer = csv.writer(f)\n",
    "    writer.writerows(CC_DATA)"
   ]
  },
  {
   "cell_type": "code",
   "execution_count": 6,
   "id": "a988d518",
   "metadata": {},
   "outputs": [],
   "source": [
    "# Create a variable using the Census Microdata API documentation, that represents the API Call endpoints for the:\n",
    "# Unique Person Identifier (OCCURNUM), age of survey respondant (PRTAGE), job class (PRCOW1), industry of occupation (PEIO1ICD), past 12 month household income (HEFAMINC), sex of survey respondant(PESEX), total household number of members (HRNUMHOU), Highest Level of School Completed(PEEDUCA),Race of Respondant(PTDTRACE)\n",
    "# For Loudon County(FIPS CODE:107), Virginia(FIPS CCODE:51)\n",
    "# Ending with my Authorization Key\n",
    "LC_VA = \"?get=OCCURNUM,PRTAGE,PRCOW1,PEIO1ICD,HEFAMINC,PESEX,HRNUMHOU,PEEDUCA,PTDTRACE&for=county:107&in=state:51&key=9f6e0ccc3ca0d0ca5e570f3affc38924f177b9ad\""
   ]
  },
  {
   "cell_type": "code",
   "execution_count": 7,
   "id": "83a22ad3",
   "metadata": {},
   "outputs": [
    {
     "data": {
      "text/plain": [
       "<Response [200]>"
      ]
     },
     "execution_count": 7,
     "metadata": {},
     "output_type": "execute_result"
    }
   ],
   "source": [
    "# Create API Call that combines Base URL with Loudoun County Virginia Data\n",
    "requests.get(Base_URL + LC_VA)"
   ]
  },
  {
   "cell_type": "code",
   "execution_count": 8,
   "id": "dac8f1e6",
   "metadata": {},
   "outputs": [],
   "source": [
    "# Create a variable for Loudon County Request by concatenating Base_URL and LC_MD variables using the + operator\n",
    "# Use .json method in order to convert LC_DATA call into a JavaScript object which will be a list of lists\n",
    "LC_DATA = requests.get(Base_URL + LC_VA).json()"
   ]
  },
  {
   "cell_type": "code",
   "execution_count": 9,
   "id": "03a5bc65",
   "metadata": {},
   "outputs": [],
   "source": [
    "# Create a CSV File locatable with the computers file explorer named LC_DATA.csv and write the data stored in the LC_DATA variable to the newly created file using the created writer object\n",
    "with open(\"LC_DATA.csv\", \"w\", newline=\"\") as f:\n",
    "    writer = csv.writer(f)\n",
    "    writer.writerows(LC_DATA)"
   ]
  }
 ],
 "metadata": {
  "kernelspec": {
   "display_name": "Python 3 (ipykernel)",
   "language": "python",
   "name": "python3"
  },
  "language_info": {
   "codemirror_mode": {
    "name": "ipython",
    "version": 3
   },
   "file_extension": ".py",
   "mimetype": "text/x-python",
   "name": "python",
   "nbconvert_exporter": "python",
   "pygments_lexer": "ipython3",
   "version": "3.9.13"
  }
 },
 "nbformat": 4,
 "nbformat_minor": 5
}
